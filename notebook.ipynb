{
 "cells": [
  {
   "cell_type": "code",
   "execution_count": 2,
   "metadata": {},
   "outputs": [],
   "source": [
    "import pandas as pd\n",
    "import requests\n",
    "from time import sleep\n",
    "from random import randint\n",
    "import json"
   ]
  },
  {
   "cell_type": "code",
   "execution_count": 3,
   "metadata": {},
   "outputs": [],
   "source": [
    "df = pd.read_csv(\"tgvmax.csv\", delimiter=\";\")"
   ]
  },
  {
   "cell_type": "code",
   "execution_count": 4,
   "metadata": {},
   "outputs": [],
   "source": [
    "possible_destinations = df['Destination'].unique()"
   ]
  },
  {
   "cell_type": "code",
   "execution_count": null,
   "metadata": {},
   "outputs": [],
   "source": [
    "name_coord_map = {}"
   ]
  },
  {
   "cell_type": "code",
   "execution_count": 15,
   "metadata": {},
   "outputs": [],
   "source": [
    "with open(\"coordinates_map.json\") as f:\n",
    "    name_coord_map = json.load(f)"
   ]
  },
  {
   "cell_type": "code",
   "execution_count": 16,
   "metadata": {},
   "outputs": [],
   "source": [
    "for k in name_coord_map:\n",
    "    name_coord_map[k][0] = float(name_coord_map[k][0])\n",
    "    name_coord_map[k][1] = float(name_coord_map[k][1])"
   ]
  },
  {
   "cell_type": "code",
   "execution_count": 18,
   "metadata": {},
   "outputs": [],
   "source": [
    "for city_name in possible_destinations:\n",
    "    city_name_corrected = city_name.replace(' (intramuros)','').replace(' ','+')\n",
    "\n",
    "    if city_name in name_coord_map:\n",
    "        continue\n",
    "\n",
    "    print(city_name)\n",
    "\n",
    "    response = requests.get(f'http://nominatim.openstreetmap.org/search?format=json&limit=1&q={city_name_corrected}')\n",
    "    if response.status_code == 200:\n",
    "        if len(response.json()) > 0:\n",
    "            name_coord_map[city_name] = float(response.json()[0][\"lat\"]), float(response.json()[0][\"lon\"])\n",
    "        else:\n",
    "            print(f\"No coordinates found for [{city_name}]\")\n",
    "    else:\n",
    "        print(f\"error while fetching [{city_name}]\")\n",
    "    sleep(randint(120,200) / 100)"
   ]
  },
  {
   "cell_type": "code",
   "execution_count": 29,
   "metadata": {},
   "outputs": [],
   "source": [
    "name_coord_map[\"OULX CESANA CLAV SESTRIERE\"] = (44.9584528, 6.8786855)\n",
    "name_coord_map[\"AEROPORT CDG2 TGV ROISSY\"] = (49.0068908, 2.5710819691019156)\n",
    "name_coord_map[\"LAHR SCHWARZW\"] = (48.338896, 7.8710825)\n",
    "name_coord_map[\"MOUTIERS SALINS BRIDES L BAINS\"] = (45.4867109, 6.5314321)\n",
    "name_coord_map[\"RINGSHEIM/EU-PARK\"] = (48.2485087, 7.772909)\n",
    "name_coord_map[\"FIGUERES VILA TGV\"] = (42.2666314, 2.9638434)"
   ]
  },
  {
   "cell_type": "code",
   "execution_count": 19,
   "metadata": {},
   "outputs": [],
   "source": [
    "with open(\"coordinates_map.json\", \"w\") as fp:\n",
    "    json.dump(name_coord_map, fp)\n",
    "\n",
    "# city_data.js : add \"var city_data = \" at the beginning"
   ]
  },
  {
   "cell_type": "code",
   "execution_count": 17,
   "metadata": {},
   "outputs": [
    {
     "data": {
      "text/plain": [
       "(296, 296)"
      ]
     },
     "execution_count": 17,
     "metadata": {},
     "output_type": "execute_result"
    }
   ],
   "source": [
    "len(possible_destinations), len(name_coord_map)"
   ]
  },
  {
   "cell_type": "code",
   "execution_count": null,
   "metadata": {},
   "outputs": [],
   "source": []
  }
 ],
 "metadata": {
  "kernelspec": {
   "display_name": "Python 3.8.15 ('env_trash')",
   "language": "python",
   "name": "python3"
  },
  "language_info": {
   "codemirror_mode": {
    "name": "ipython",
    "version": 3
   },
   "file_extension": ".py",
   "mimetype": "text/x-python",
   "name": "python",
   "nbconvert_exporter": "python",
   "pygments_lexer": "ipython3",
   "version": "3.8.15"
  },
  "orig_nbformat": 4,
  "vscode": {
   "interpreter": {
    "hash": "58ba9cb0d625cab6aaeec692d8aa5c42b3d64060d5a7719299eeb351b0b4d8be"
   }
  }
 },
 "nbformat": 4,
 "nbformat_minor": 2
}
